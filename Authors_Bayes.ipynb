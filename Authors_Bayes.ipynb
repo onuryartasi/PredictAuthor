{
 "cells": [
  {
   "cell_type": "code",
   "execution_count": 1,
   "metadata": {
    "collapsed": true
   },
   "outputs": [],
   "source": [
    "import re,os\n",
    "import numpy as np\n",
    "import random\n",
    "mypath=\"authors\""
   ]
  },
  {
   "cell_type": "code",
   "execution_count": 2,
   "metadata": {
    "collapsed": true
   },
   "outputs": [],
   "source": [
    "def dataSet(dirName):\n",
    "    authors=[]\n",
    "    path=os.getcwd()+'/'+dirName+'/'\n",
    "    mylist=[]\n",
    "    for filename in os.listdir(path):\n",
    "        authors.append(filename)\n",
    "        for file in os.listdir(path+filename):\n",
    "            files=open(path+filename+'/'+file,'r',encoding=\"utf-8\")\n",
    "            text=files.read().split()\n",
    "            mylist.append(text) \n",
    "    return mylist,authors"
   ]
  },
  {
   "cell_type": "code",
   "execution_count": 3,
   "metadata": {
    "collapsed": true
   },
   "outputs": [],
   "source": [
    "dataset,authors=dataSet(mypath)\n",
    "\n",
    "dataset=[[w.lower() for w in line] for line in dataset] #lowercase\n"
   ]
  },
  {
   "cell_type": "code",
   "execution_count": 4,
   "metadata": {
    "collapsed": true
   },
   "outputs": [],
   "source": [
    "docData=[]\n",
    "docAuthors=[]\n",
    "defaultDocWord=530\n",
    "for i in range(len(authors)):\n",
    "    lenBook=len(dataset[i])\n",
    "    lenDoc=int(lenBook/defaultDocWord)\n",
    "    if(lenBook%defaultDocWord!=0):\n",
    "        lenDoc=lenDoc+1\n",
    "    for k in range(lenDoc):\n",
    "        docData.append(dataset[i][k*defaultDocWord:(k+1)*defaultDocWord])\n",
    "        docAuthors.append(authors[i]) \n"
   ]
  },
  {
   "cell_type": "code",
   "execution_count": 5,
   "metadata": {
    "collapsed": true
   },
   "outputs": [],
   "source": [
    "\n",
    "def divideDataSet(docData,docAuthors):\n",
    "   \n",
    "    suffl = list(zip(docData, docAuthors))\n",
    "    random.shuffle(suffl)\n",
    "    docData, docAuthors = zip(*suffl)\n",
    "\n",
    "    lenTrainSet=int(len(docData)*0.8)\n",
    "    \n",
    "    trainSetData=docData[0:lenTrainSet]\n",
    "    trainSetAuthors=docAuthors[0:lenTrainSet]\n",
    "    \n",
    "    testSetData=docData[lenTrainSet:len(docData)]\n",
    "    testSetAuthors=docAuthors[lenTrainSet:len(docAuthors)]\n",
    "    return trainSetData,trainSetAuthors,testSetData,testSetAuthors\n"
   ]
  },
  {
   "cell_type": "code",
   "execution_count": 6,
   "metadata": {
    "collapsed": true
   },
   "outputs": [],
   "source": [
    "trainSetData,trainSetAuthors,testSetData,testSetAuthors = divideDataSet(docData,docAuthors)"
   ]
  },
  {
   "cell_type": "code",
   "execution_count": 7,
   "metadata": {
    "collapsed": true
   },
   "outputs": [],
   "source": [
    "from collections import Counter\n",
    "def counter(docData):\n",
    "    wordcount = Counter(docData)\n",
    "    return wordcount"
   ]
  },
  {
   "cell_type": "code",
   "execution_count": 8,
   "metadata": {
    "collapsed": true
   },
   "outputs": [],
   "source": [
    "def joinWord():\n",
    "    authSet=[]\n",
    "    for auth in authors:\n",
    "        index=[]\n",
    "        wordSet=[]\n",
    "        index = [index for index, value in enumerate(trainSetAuthors) if value == auth]\n",
    "        for i in index:\n",
    "            wordSet.extend(trainSetData[i])\n",
    "        authSet.append(wordSet)\n",
    "    return authSet"
   ]
  },
  {
   "cell_type": "code",
   "execution_count": 9,
   "metadata": {
    "collapsed": true,
    "scrolled": true
   },
   "outputs": [],
   "source": [
    "#Distinct Word joining\n",
    "authSet=joinWord() # Kelimelerin sınıflandırılmış listesi\n",
    "auth_word=[counter(authSet[i]) for i in range(len(authors))] #Distinct kelimeler"
   ]
  },
  {
   "cell_type": "code",
   "execution_count": 23,
   "metadata": {
    "collapsed": true
   },
   "outputs": [],
   "source": [
    "def match_list(docData):\n",
    "    len_auth=len(authors)\n",
    "    matching_list=[]\n",
    "    for word in docData:\n",
    "        tmp_list=[]\n",
    "        for i in range(len_auth):\n",
    "                tmp_list.append(auth_word[i][word])\n",
    "        matching_list.append(tmp_list)\n",
    "    return matching_list\n",
    "    "
   ]
  },
  {
   "cell_type": "code",
   "execution_count": 25,
   "metadata": {
    "scrolled": true
   },
   "outputs": [],
   "source": [
    "tmp_list=match_list(testSetData[0])\n",
    "def smoothing(tmp_list):\n",
    "    for i in range(len(authors)):\n",
    "        for k in range(len(tmp_list)):\n",
    "            tmp_list[k][i]=(tmp_list[k][i]+1)/(len(authSet[i])+len(auth_word[i]))\n",
    "    return tmp_list\n"
   ]
  },
  {
   "cell_type": "code",
   "execution_count": 79,
   "metadata": {},
   "outputs": [],
   "source": [
    "\n",
    "from math import log\n",
    "\n",
    "def prob(matrix):\n",
    "    \n",
    "    prob_list=np.zeros(len(authors))\n",
    "    lenAuthors=len(authors)\n",
    "    lenMatrix=len(matrix)\n",
    "    for k in range(lenMatrix):\n",
    "        for i in range(lenAuthors):\n",
    "            sum_row=sum(matrix[k])\n",
    "            prob_list[i]=prob_list[i]+log(matrix[k][i]/sum_row)\n",
    "            \n",
    "    \n",
    "    return prob_list\n",
    "    \n",
    "    "
   ]
  },
  {
   "cell_type": "code",
   "execution_count": 85,
   "metadata": {},
   "outputs": [
    {
     "name": "stdout",
     "output_type": "stream",
     "text": [
      "->Oguz Atay : Oguz Atay\n",
      "->Andres platonov : Andres platonov\n",
      "->Maksim Gorki : James Joyce\n",
      "->Maksim Gorki : James Joyce\n",
      "->Oguz Atay : Oguz Atay\n",
      "->Andres platonov : Andres platonov\n",
      "->Andres platonov : Andres platonov\n",
      "->Ahmet hamdi : Ahmet hamdi\n",
      "->Yasar Kemal : Yasar Kemal\n",
      "->Gabriel Garcia Marquez : Gabriel Garcia Marquez\n",
      "->Oguz Atay : Oguz Atay\n",
      "->Maksim Gorki : Maksim Gorki\n",
      "->Maksim Gorki : James Joyce\n",
      "->Gabriel Garcia Marquez : Gabriel Garcia Marquez\n",
      "->James Joyce : James Joyce\n",
      "->Maksim Gorki : James Joyce\n",
      "->Oguz Atay : Oguz Atay\n",
      "->Yasar Kemal : Yasar Kemal\n",
      "->Maksim Gorki : James Joyce\n",
      "->Andres platonov : Andres platonov\n",
      "->Maksim Gorki : James Joyce\n",
      "->Maksim Gorki : Maksim Gorki\n",
      "->Gabriel Garcia Marquez : Gabriel Garcia Marquez\n",
      "->Maksim Gorki : James Joyce\n",
      "->Ahmet hamdi : Ahmet hamdi\n",
      "->Yasar Kemal : Yasar Kemal\n",
      "->Yasar Kemal : Yasar Kemal\n",
      "->Maksim Gorki : Maksim Gorki\n",
      "->Yasar Kemal : Yasar Kemal\n",
      "->Oguz Atay : Oguz Atay\n",
      "->Yasar Kemal : Yasar Kemal\n",
      "->Andres platonov : Andres platonov\n",
      "->Andres platonov : Andres platonov\n",
      "->James Joyce : James Joyce\n",
      "->Maksim Gorki : Maksim Gorki\n",
      "->Ahmet hamdi : Ahmet hamdi\n",
      "->James Joyce : James Joyce\n",
      "->Maksim Gorki : James Joyce\n",
      "->Oguz Atay : Oguz Atay\n",
      "->Ahmet hamdi : Oguz Atay\n",
      "->Maksim Gorki : Maksim Gorki\n",
      "->Andres platonov : Andres platonov\n",
      "->Andres platonov : Andres platonov\n",
      "->Andres platonov : Andres platonov\n",
      "->Oguz Atay : Oguz Atay\n",
      "->Maksim Gorki : James Joyce\n",
      "->Yasar Kemal : Yasar Kemal\n",
      "->James Joyce : James Joyce\n",
      "->Oguz Atay : Oguz Atay\n",
      "->Gabriel Garcia Marquez : Gabriel Garcia Marquez\n",
      "->Gabriel Garcia Marquez : Gabriel Garcia Marquez\n",
      "->Maksim Gorki : James Joyce\n",
      "->Yasar Kemal : Yasar Kemal\n",
      "->Yasar Kemal : Yasar Kemal\n",
      "->Maksim Gorki : James Joyce\n",
      "->Andres platonov : Andres platonov\n",
      "->James Joyce : James Joyce\n",
      "->Ahmet hamdi : James Joyce\n",
      "->James Joyce : James Joyce\n",
      "->Ahmet hamdi : James Joyce\n",
      "->Maksim Gorki : James Joyce\n",
      "->Ahmet hamdi : Yasar Kemal\n",
      "->James Joyce : James Joyce\n",
      "->Oguz Atay : Oguz Atay\n",
      "->Oguz Atay : Oguz Atay\n",
      "->Ahmet hamdi : Ahmet hamdi\n",
      "->Maksim Gorki : Maksim Gorki\n",
      "->Yasar Kemal : Yasar Kemal\n",
      "->Oguz Atay : Oguz Atay\n",
      "->Maksim Gorki : Maksim Gorki\n",
      "->Gabriel Garcia Marquez : Gabriel Garcia Marquez\n",
      "->Maksim Gorki : James Joyce\n",
      "->Andres platonov : Andres platonov\n",
      "->Ahmet hamdi : Ahmet hamdi\n",
      "->Oguz Atay : Oguz Atay\n",
      "->Maksim Gorki : James Joyce\n",
      "->Ahmet hamdi : Ahmet hamdi\n",
      "->Oguz Atay : Oguz Atay\n",
      "->Yasar Kemal : Yasar Kemal\n",
      "->Oguz Atay : Oguz Atay\n",
      "->James Joyce : James Joyce\n",
      "->Gabriel Garcia Marquez : Gabriel Garcia Marquez\n",
      "->James Joyce : James Joyce\n",
      "->Maksim Gorki : James Joyce\n",
      "->Maksim Gorki : James Joyce\n",
      "->Gabriel Garcia Marquez : Gabriel Garcia Marquez\n",
      "->Oguz Atay : Oguz Atay\n",
      "->Yasar Kemal : Yasar Kemal\n",
      "->Andres platonov : Andres platonov\n",
      "->Yasar Kemal : Yasar Kemal\n",
      "->James Joyce : James Joyce\n",
      "->Maksim Gorki : James Joyce\n",
      "->Oguz Atay : Oguz Atay\n",
      "->Yasar Kemal : Yasar Kemal\n",
      "->Maksim Gorki : James Joyce\n",
      "->Oguz Atay : Oguz Atay\n",
      "->James Joyce : James Joyce\n",
      "->James Joyce : James Joyce\n",
      "->Ahmet hamdi : Ahmet hamdi\n",
      "->Ahmet hamdi : Ahmet hamdi\n",
      "->Oguz Atay : Oguz Atay\n",
      "->Yasar Kemal : Yasar Kemal\n",
      "->Maksim Gorki : Maksim Gorki\n",
      "->Gabriel Garcia Marquez : Gabriel Garcia Marquez\n",
      "->Gabriel Garcia Marquez : Gabriel Garcia Marquez\n",
      "->Ahmet hamdi : Ahmet hamdi\n",
      "->James Joyce : James Joyce\n",
      "->Andres platonov : Andres platonov\n",
      "->Gabriel Garcia Marquez : Gabriel Garcia Marquez\n",
      "->Oguz Atay : Oguz Atay\n",
      "->Ahmet hamdi : James Joyce\n",
      "->Maksim Gorki : Maksim Gorki\n",
      "->Ahmet hamdi : James Joyce\n",
      "->Yasar Kemal : Yasar Kemal\n",
      "->Oguz Atay : Oguz Atay\n",
      "->Andres platonov : Andres platonov\n",
      "->Yasar Kemal : Yasar Kemal\n",
      "->Yasar Kemal : Yasar Kemal\n",
      "->Gabriel Garcia Marquez : Gabriel Garcia Marquez\n",
      "->Gabriel Garcia Marquez : Gabriel Garcia Marquez\n",
      "->Maksim Gorki : James Joyce\n",
      "->Maksim Gorki : James Joyce\n",
      "->Oguz Atay : Oguz Atay\n",
      "->Ahmet hamdi : Oguz Atay\n",
      "->Andres platonov : Andres platonov\n",
      "->James Joyce : James Joyce\n",
      "->Gabriel Garcia Marquez : Gabriel Garcia Marquez\n",
      "->Ahmet hamdi : Ahmet hamdi\n",
      "->Maksim Gorki : Maksim Gorki\n",
      "->Maksim Gorki : Maksim Gorki\n",
      "->Oguz Atay : Oguz Atay\n",
      "->Maksim Gorki : Oguz Atay\n",
      "->Maksim Gorki : Maksim Gorki\n",
      "->Gabriel Garcia Marquez : Gabriel Garcia Marquez\n",
      "->Ahmet hamdi : Ahmet hamdi\n",
      "->James Joyce : James Joyce\n",
      "->Maksim Gorki : Maksim Gorki\n",
      "->Maksim Gorki : Maksim Gorki\n",
      "->Ahmet hamdi : Ahmet hamdi\n",
      "->Maksim Gorki : James Joyce\n",
      "->Yasar Kemal : Yasar Kemal\n",
      "->Ahmet hamdi : Oguz Atay\n",
      "->Yasar Kemal : Yasar Kemal\n",
      "->Andres platonov : Andres platonov\n",
      "->Gabriel Garcia Marquez : Gabriel Garcia Marquez\n",
      "->Maksim Gorki : James Joyce\n",
      "->Ahmet hamdi : Oguz Atay\n",
      "->Ahmet hamdi : James Joyce\n",
      "->Ahmet hamdi : James Joyce\n",
      "->Maksim Gorki : Maksim Gorki\n",
      "->Ahmet hamdi : Ahmet hamdi\n",
      "->Yasar Kemal : Yasar Kemal\n",
      "->Andres platonov : Andres platonov\n",
      "->Yasar Kemal : Yasar Kemal\n",
      "->Yasar Kemal : Yasar Kemal\n",
      "->Andres platonov : Andres platonov\n",
      "->Ahmet hamdi : Oguz Atay\n",
      "->Oguz Atay : Oguz Atay\n",
      "->Ahmet hamdi : Ahmet hamdi\n",
      "->Yasar Kemal : Yasar Kemal\n",
      "->James Joyce : James Joyce\n",
      "->Oguz Atay : Oguz Atay\n",
      "->Maksim Gorki : Maksim Gorki\n",
      "->Yasar Kemal : Yasar Kemal\n",
      "->Andres platonov : Andres platonov\n",
      "->Yasar Kemal : Yasar Kemal\n",
      "->Yasar Kemal : Yasar Kemal\n",
      "->Maksim Gorki : James Joyce\n",
      "->Maksim Gorki : Maksim Gorki\n",
      "->Oguz Atay : Oguz Atay\n",
      "->Oguz Atay : Oguz Atay\n",
      "->Maksim Gorki : James Joyce\n",
      "->Yasar Kemal : Yasar Kemal\n",
      "->Oguz Atay : Oguz Atay\n",
      "->Ahmet hamdi : Ahmet hamdi\n",
      "->Gabriel Garcia Marquez : Gabriel Garcia Marquez\n",
      "->Ahmet hamdi : Ahmet hamdi\n",
      "->Gabriel Garcia Marquez : Gabriel Garcia Marquez\n",
      "->Andres platonov : Andres platonov\n",
      "->Ahmet hamdi : Ahmet hamdi\n",
      "->Gabriel Garcia Marquez : Gabriel Garcia Marquez\n",
      "->Andres platonov : Andres platonov\n",
      "->Ahmet hamdi : Ahmet hamdi\n",
      "->Maksim Gorki : Maksim Gorki\n",
      "->Maksim Gorki : Maksim Gorki\n",
      "->Andres platonov : Andres platonov\n",
      "->Maksim Gorki : Oguz Atay\n",
      "->James Joyce : James Joyce\n",
      "->Oguz Atay : Oguz Atay\n",
      "->Maksim Gorki : James Joyce\n",
      "->James Joyce : James Joyce\n",
      "->Maksim Gorki : Maksim Gorki\n",
      "->Maksim Gorki : Maksim Gorki\n",
      "->Yasar Kemal : Yasar Kemal\n",
      "->Maksim Gorki : Maksim Gorki\n",
      "->Ahmet hamdi : Ahmet hamdi\n",
      "->James Joyce : James Joyce\n",
      "->Yasar Kemal : Yasar Kemal\n",
      "->Ahmet hamdi : James Joyce\n",
      "->Yasar Kemal : Yasar Kemal\n",
      "->Gabriel Garcia Marquez : Gabriel Garcia Marquez\n",
      "->Andres platonov : Andres platonov\n",
      "->Yasar Kemal : Yasar Kemal\n",
      "->James Joyce : James Joyce\n",
      "->Oguz Atay : Oguz Atay\n",
      "->Yasar Kemal : Yasar Kemal\n",
      "->Ahmet hamdi : Oguz Atay\n",
      "->Andres platonov : Andres platonov\n",
      "->Maksim Gorki : Oguz Atay\n",
      "->Gabriel Garcia Marquez : Gabriel Garcia Marquez\n",
      "->Ahmet hamdi : James Joyce\n",
      "->Oguz Atay : Oguz Atay\n",
      "->Maksim Gorki : Maksim Gorki\n",
      "->Maksim Gorki : James Joyce\n",
      "->Gabriel Garcia Marquez : Gabriel Garcia Marquez\n",
      "->Oguz Atay : Oguz Atay\n",
      "->Yasar Kemal : Yasar Kemal\n",
      "->Yasar Kemal : Yasar Kemal\n",
      "->Oguz Atay : Oguz Atay\n",
      "->Maksim Gorki : James Joyce\n",
      "->James Joyce : James Joyce\n",
      "->Oguz Atay : Oguz Atay\n",
      "->Ahmet hamdi : Ahmet hamdi\n",
      "->Ahmet hamdi : James Joyce\n",
      "->Oguz Atay : Oguz Atay\n",
      "->James Joyce : James Joyce\n",
      "->Oguz Atay : Oguz Atay\n",
      "->Andres platonov : James Joyce\n",
      "->Maksim Gorki : Oguz Atay\n",
      "->Ahmet hamdi : Ahmet hamdi\n",
      "->Oguz Atay : Oguz Atay\n",
      "->Andres platonov : Andres platonov\n",
      "->Maksim Gorki : James Joyce\n",
      "->Maksim Gorki : Oguz Atay\n",
      "->Gabriel Garcia Marquez : Gabriel Garcia Marquez\n",
      "->Maksim Gorki : Maksim Gorki\n",
      "->Andres platonov : Andres platonov\n",
      "->Yasar Kemal : Yasar Kemal\n",
      "->Yasar Kemal : Yasar Kemal\n",
      "->Ahmet hamdi : Ahmet hamdi\n",
      "->Oguz Atay : Oguz Atay\n",
      "->Andres platonov : Andres platonov\n",
      "->James Joyce : James Joyce\n",
      "->Andres platonov : Andres platonov\n",
      "->Andres platonov : Andres platonov\n",
      "->Ahmet hamdi : Ahmet hamdi\n",
      "->James Joyce : James Joyce\n",
      "->James Joyce : James Joyce\n",
      "->Yasar Kemal : Yasar Kemal\n",
      "->Maksim Gorki : Maksim Gorki\n",
      "->James Joyce : James Joyce\n",
      "->Yasar Kemal : Yasar Kemal\n",
      "->Yasar Kemal : Yasar Kemal\n",
      "->Gabriel Garcia Marquez : Gabriel Garcia Marquez\n",
      "->Ahmet hamdi : Ahmet hamdi\n",
      "->Yasar Kemal : Yasar Kemal\n",
      "->Maksim Gorki : James Joyce\n",
      "->Ahmet hamdi : Ahmet hamdi\n",
      "->Maksim Gorki : James Joyce\n",
      "->Andres platonov : Andres platonov\n",
      "->Yasar Kemal : Yasar Kemal\n",
      "->Oguz Atay : Oguz Atay\n",
      "->Oguz Atay : Oguz Atay\n",
      "->Ahmet hamdi : Ahmet hamdi\n",
      "->Maksim Gorki : James Joyce\n",
      "->Maksim Gorki : Maksim Gorki\n",
      "->Gabriel Garcia Marquez : Gabriel Garcia Marquez\n",
      "->James Joyce : James Joyce\n"
     ]
    },
    {
     "name": "stdout",
     "output_type": "stream",
     "text": [
      "->Gabriel Garcia Marquez : Gabriel Garcia Marquez\n",
      "->Oguz Atay : Oguz Atay\n",
      "->Gabriel Garcia Marquez : Gabriel Garcia Marquez\n",
      "->Maksim Gorki : James Joyce\n",
      "->James Joyce : James Joyce\n",
      "->Ahmet hamdi : James Joyce\n",
      "->Gabriel Garcia Marquez : Gabriel Garcia Marquez\n",
      "->Andres platonov : Andres platonov\n",
      "->Yasar Kemal : Yasar Kemal\n",
      "->Ahmet hamdi : Ahmet hamdi\n",
      "->Yasar Kemal : Yasar Kemal\n",
      "->Andres platonov : Andres platonov\n",
      "->Ahmet hamdi : Oguz Atay\n",
      "->Gabriel Garcia Marquez : Gabriel Garcia Marquez\n",
      "->Yasar Kemal : Yasar Kemal\n",
      "->Maksim Gorki : James Joyce\n",
      "->Yasar Kemal : Yasar Kemal\n",
      "->Gabriel Garcia Marquez : Gabriel Garcia Marquez\n",
      "->Yasar Kemal : Yasar Kemal\n",
      "->Ahmet hamdi : Ahmet hamdi\n",
      "->Maksim Gorki : James Joyce\n",
      "->Yasar Kemal : Yasar Kemal\n",
      "->Oguz Atay : Oguz Atay\n",
      "->Gabriel Garcia Marquez : Gabriel Garcia Marquez\n",
      "->Gabriel Garcia Marquez : Gabriel Garcia Marquez\n",
      "->Oguz Atay : Oguz Atay\n",
      "->James Joyce : James Joyce\n",
      "->Ahmet hamdi : Ahmet hamdi\n",
      "->Maksim Gorki : James Joyce\n",
      "->Ahmet hamdi : James Joyce\n",
      "->Yasar Kemal : Yasar Kemal\n",
      "->Oguz Atay : Oguz Atay\n",
      "->Maksim Gorki : James Joyce\n",
      "->Andres platonov : Andres platonov\n",
      "->Ahmet hamdi : James Joyce\n",
      "->Maksim Gorki : James Joyce\n",
      "->Andres platonov : Andres platonov\n",
      "->Yasar Kemal : Yasar Kemal\n",
      "->Oguz Atay : Oguz Atay\n",
      "->Oguz Atay : Oguz Atay\n",
      "->Gabriel Garcia Marquez : Gabriel Garcia Marquez\n",
      "->Yasar Kemal : Yasar Kemal\n",
      "->Ahmet hamdi : Ahmet hamdi\n",
      "->Maksim Gorki : James Joyce\n",
      "->Andres platonov : Andres platonov\n",
      "->Oguz Atay : Oguz Atay\n",
      "->Maksim Gorki : Maksim Gorki\n",
      "->Ahmet hamdi : James Joyce\n",
      "->Andres platonov : Andres platonov\n",
      "->Maksim Gorki : James Joyce\n",
      "->Ahmet hamdi : Oguz Atay\n",
      "->Maksim Gorki : James Joyce\n",
      "->Andres platonov : Andres platonov\n",
      "->Ahmet hamdi : Ahmet hamdi\n",
      "->Yasar Kemal : Yasar Kemal\n",
      "->Oguz Atay : Oguz Atay\n",
      "->Maksim Gorki : Maksim Gorki\n",
      "->Maksim Gorki : Maksim Gorki\n",
      "->Ahmet hamdi : Ahmet hamdi\n",
      "->Yasar Kemal : Yasar Kemal\n",
      "->Ahmet hamdi : Ahmet hamdi\n",
      "->Maksim Gorki : James Joyce\n",
      "->Oguz Atay : Oguz Atay\n",
      "->Maksim Gorki : Maksim Gorki\n",
      "->Maksim Gorki : Maksim Gorki\n",
      "->Gabriel Garcia Marquez : Gabriel Garcia Marquez\n",
      "->Gabriel Garcia Marquez : Gabriel Garcia Marquez\n",
      "->Maksim Gorki : Maksim Gorki\n",
      "->James Joyce : James Joyce\n",
      "->Maksim Gorki : James Joyce\n",
      "->Yasar Kemal : Yasar Kemal\n",
      "->Ahmet hamdi : Ahmet hamdi\n",
      "->Gabriel Garcia Marquez : Gabriel Garcia Marquez\n",
      "->Gabriel Garcia Marquez : Gabriel Garcia Marquez\n",
      "->Oguz Atay : Oguz Atay\n",
      "->James Joyce : James Joyce\n",
      "->James Joyce : James Joyce\n",
      "->Yasar Kemal : Yasar Kemal\n",
      "->Yasar Kemal : Yasar Kemal\n",
      "->Oguz Atay : Oguz Atay\n",
      "->Oguz Atay : Oguz Atay\n",
      "->Oguz Atay : Oguz Atay\n",
      "->Andres platonov : Andres platonov\n",
      "->Yasar Kemal : Yasar Kemal\n",
      "->Gabriel Garcia Marquez : Gabriel Garcia Marquez\n",
      "->Yasar Kemal : Yasar Kemal\n",
      "->Maksim Gorki : James Joyce\n",
      "->Andres platonov : Andres platonov\n",
      "->James Joyce : James Joyce\n"
     ]
    }
   ],
   "source": [
    "prob_list=[]\n",
    "for i in range(len(testSetData)):\n",
    "    matrix=np.array(smoothing(match_list(testSetData[i])))\n",
    "    max_ind=np.argmax(prob(matrix))\n",
    "    prob_list.append(prob(matrix))\n",
    "    print(\"->\" + authors[max_ind] + \" : \" + testSetAuthors[i])\n",
    "\n"
   ]
  },
  {
   "cell_type": "code",
   "execution_count": 87,
   "metadata": {
    "collapsed": true
   },
   "outputs": [],
   "source": [
    "def conf_matrix(cos_list):\n",
    "    conf_mat=np.zeros((len(authors),len(authors)))\n",
    "    for i in range(len(cos_list)):\n",
    "        max_in=np.argmax(cos_list[i])\n",
    "        #print(authors[max_in],\" : \", testSetAuthors[i])\n",
    "        conf_mat[authors.index(testSetAuthors[i])][max_in]=conf_mat[authors.index(testSetAuthors[i])][max_in]+1\n",
    "\n",
    "    return conf_mat"
   ]
  },
  {
   "cell_type": "code",
   "execution_count": 98,
   "metadata": {},
   "outputs": [],
   "source": [
    "matrix=conf_matrix(prob_list)"
   ]
  },
  {
   "cell_type": "code",
   "execution_count": 99,
   "metadata": {},
   "outputs": [],
   "source": [
    "def  pre_rec(matrix,i):\n",
    "\n",
    "    colm_pred=sum(matrix[:,i])\n",
    "    row_pred=sum(matrix[i])\n",
    "    prec=matrix[i][i]/colm_pred\n",
    "    recall=matrix[i][i]/row_pred\n",
    "\n",
    "    return prec,recall"
   ]
  },
  {
   "cell_type": "code",
   "execution_count": 100,
   "metadata": {
    "collapsed": true
   },
   "outputs": [],
   "source": [
    "def f1_score():\n",
    "    prec_average=0\n",
    "    recall_average=0\n",
    "    lenAuthors=len(authors)\n",
    "    for i in range(lenAuthors):\n",
    "        prec,recall=pre_rec(matrix,i)\n",
    "        prec_average=prec_average+prec/lenAuthors\n",
    "        recall_average=recall_average+recall/lenAuthors\n",
    "    f1_score=2*(prec_average*recall_average)/(prec_average+recall_average)\n",
    "    return f1_score"
   ]
  },
  {
   "cell_type": "code",
   "execution_count": 101,
   "metadata": {},
   "outputs": [
    {
     "data": {
      "text/plain": [
       "0.86639612144597544"
      ]
     },
     "execution_count": 101,
     "metadata": {},
     "output_type": "execute_result"
    }
   ],
   "source": [
    "f1_score()"
   ]
  },
  {
   "cell_type": "code",
   "execution_count": 102,
   "metadata": {
    "collapsed": true
   },
   "outputs": [],
   "source": [
    "def accuracy(matrix):\n",
    "  \n",
    "    all_pred=sum(sum(matrix))\n",
    "    t_pred=sum(np.diagonal(matrix))\n",
    "    return (t_pred/all_pred)"
   ]
  },
  {
   "cell_type": "code",
   "execution_count": 113,
   "metadata": {},
   "outputs": [
    {
     "data": {
      "text/plain": [
       "array([[ 39.,   0.,   0.,   0.,   0.,   0.,   0.],\n",
       "       [  0.,  32.,   0.,   0.,   0.,   0.,   0.],\n",
       "       [  0.,   0.,  38.,   0.,   0.,   0.,   0.],\n",
       "       [  1.,  43.,   0.,  33.,   0.,   0.,  13.],\n",
       "       [  0.,   0.,   0.,   0.,  58.,   0.,   1.],\n",
       "       [  0.,   5.,   0.,   0.,   0.,  52.,   8.],\n",
       "       [  0.,   0.,   0.,   0.,   0.,   0.,  34.]])"
      ]
     },
     "execution_count": 113,
     "metadata": {},
     "output_type": "execute_result"
    }
   ],
   "source": [
    "accuracy(matrix)\n",
    "matrix"
   ]
  },
  {
   "cell_type": "code",
   "execution_count": null,
   "metadata": {
    "collapsed": true
   },
   "outputs": [],
   "source": []
  }
 ],
 "metadata": {
  "kernelspec": {
   "display_name": "Python 3",
   "language": "python",
   "name": "python3"
  },
  "language_info": {
   "codemirror_mode": {
    "name": "ipython",
    "version": 3
   },
   "file_extension": ".py",
   "mimetype": "text/x-python",
   "name": "python",
   "nbconvert_exporter": "python",
   "pygments_lexer": "ipython3",
   "version": "3.5.2"
  }
 },
 "nbformat": 4,
 "nbformat_minor": 2
}
