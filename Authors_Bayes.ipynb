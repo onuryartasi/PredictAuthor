{
 "cells": [
  {
   "cell_type": "code",
   "execution_count": 17,
   "metadata": {
    "collapsed": true
   },
   "outputs": [],
   "source": [
    "import re,os\n",
    "import numpy as np\n",
    "import random\n",
    "mypath=\"authors\""
   ]
  },
  {
   "cell_type": "code",
   "execution_count": 18,
   "metadata": {
    "collapsed": true
   },
   "outputs": [],
   "source": [
    "def dataSet(dirName):\n",
    "    authors=[]\n",
    "    path=os.getcwd()+'/'+dirName+'/'\n",
    "    mylist=[]\n",
    "    for filename in os.listdir(path):\n",
    "        authors.append(filename)\n",
    "        for file in os.listdir(path+filename):\n",
    "            files=open(path+filename+'/'+file,'r',encoding=\"utf-8\")\n",
    "            text=files.read().split()\n",
    "            mylist.append(text) \n",
    "    return mylist,authors"
   ]
  },
  {
   "cell_type": "code",
   "execution_count": 19,
   "metadata": {
    "collapsed": true
   },
   "outputs": [],
   "source": [
    "dataset,authors=dataSet(mypath)\n",
    "\n",
    "dataset=[[w.lower() for w in line] for line in dataset] #lowercase\n"
   ]
  },
  {
   "cell_type": "code",
   "execution_count": 20,
   "metadata": {
    "collapsed": true
   },
   "outputs": [],
   "source": [
    "docData=[]\n",
    "docAuthors=[]\n",
    "defaultDocWord=530\n",
    "for i in range(len(authors)):\n",
    "    lenBook=len(dataset[i])\n",
    "    lenDoc=int(lenBook/defaultDocWord)\n",
    "    if(lenBook%defaultDocWord!=0):\n",
    "        lenDoc=lenDoc+1\n",
    "    for k in range(lenDoc):\n",
    "        docData.append(dataset[i][k*defaultDocWord:(k+1)*defaultDocWord])\n",
    "        docAuthors.append(authors[i]) \n"
   ]
  },
  {
   "cell_type": "code",
   "execution_count": 21,
   "metadata": {
    "collapsed": true
   },
   "outputs": [],
   "source": [
    "\n",
    "def divideDataSet(docData,docAuthors):\n",
    "   \n",
    "    suffl = list(zip(docData, docAuthors))\n",
    "    random.shuffle(suffl)\n",
    "    docData, docAuthors = zip(*suffl)\n",
    "\n",
    "    lenTrainSet=int(len(docData)*0.8)\n",
    "    \n",
    "    trainSetData=docData[0:lenTrainSet]\n",
    "    trainSetAuthors=docAuthors[0:lenTrainSet]\n",
    "    \n",
    "    testSetData=docData[lenTrainSet:len(docData)]\n",
    "    testSetAuthors=docAuthors[lenTrainSet:len(docAuthors)]\n",
    "    return trainSetData,trainSetAuthors,testSetData,testSetAuthors\n"
   ]
  },
  {
   "cell_type": "code",
   "execution_count": 22,
   "metadata": {
    "collapsed": true
   },
   "outputs": [],
   "source": [
    "trainSetData,trainSetAuthors,testSetData,testSetAuthors = divideDataSet(docData,docAuthors)"
   ]
  },
  {
   "cell_type": "code",
   "execution_count": 23,
   "metadata": {
    "collapsed": true
   },
   "outputs": [],
   "source": [
    "from collections import Counter\n",
    "def counter(docData):\n",
    "    wordcount = Counter(docData)\n",
    "    return wordcount"
   ]
  },
  {
   "cell_type": "code",
   "execution_count": 24,
   "metadata": {
    "collapsed": true
   },
   "outputs": [],
   "source": [
    "def joinWord():\n",
    "    authSet=[]\n",
    "    for auth in authors:\n",
    "        index=[]\n",
    "        wordSet=[]\n",
    "        index = [index for index, value in enumerate(trainSetAuthors) if value == auth]\n",
    "        for i in index:\n",
    "            wordSet.extend(trainSetData[i])\n",
    "        authSet.append(wordSet)\n",
    "    return authSet"
   ]
  },
  {
   "cell_type": "code",
   "execution_count": 25,
   "metadata": {
    "scrolled": true
   },
   "outputs": [],
   "source": [
    "#Distinct Word joining\n",
    "authSet=joinWord()\n",
    "auth_word=[counter(authSet[i]) for i in range(len(authors))]"
   ]
  },
  {
   "cell_type": "code",
   "execution_count": 26,
   "metadata": {
    "collapsed": true
   },
   "outputs": [],
   "source": [
    "def match_list(docData):\n",
    "    len_auth=len(authors)\n",
    "    matching_list=[]\n",
    "    for word in docData:\n",
    "        tmp_list=[]\n",
    "        for i in range(len_auth):\n",
    "                tmp_list.append(auth_word[i][word])\n",
    "        matching_list.append(tmp_list)\n",
    "    return matching_list\n",
    "    "
   ]
  },
  {
   "cell_type": "code",
   "execution_count": 58,
   "metadata": {},
   "outputs": [
    {
     "name": "stdout",
     "output_type": "stream",
     "text": [
      "[3, 11, 0, 2, 6, 20, 0]\n",
      "----------------------------------------------------\n",
      "\n",
      "[3.211845285412602e-05, 0.00013297577624609384, 8.344111143560431e-06, 1.1980017331091739e-05, 5.445436724025267e-05, 0.00011071920029103333, 1.0127915573695777e-05]\n"
     ]
    }
   ],
   "source": [
    "\n",
    "\n",
    "tmp_list=match_list(testSetData[0])\n",
    "# sum_row=sum(tmp_list[0])\n",
    "print(tmp_list[1])\n",
    "# for i in range(len(authors)):\n",
    "#     for k in range(len(tmp_list)):\n",
    "#         tmp_list[k][i]=(tmp_list[k][i]+1)/(len(authSet[i])+len(auth_word[i]))\n",
    "    \n",
    "print(\"----------------------------------------------------\\n\")\n",
    "\n",
    "print(tmp_list[1])\n",
    "\n",
    "# print(sum(list(zip(*tmp_list))[0]))\n",
    "# #sum(list(zip(*tmp_list)[0]))"
   ]
  },
  {
   "cell_type": "code",
   "execution_count": null,
   "metadata": {
    "collapsed": true
   },
   "outputs": [],
   "source": [
    "\n",
    "a=np.argmax([ ])\n",
    "print(a)"
   ]
  },
  {
   "cell_type": "code",
   "execution_count": null,
   "metadata": {
    "collapsed": true
   },
   "outputs": [],
   "source": []
  }
 ],
 "metadata": {
  "kernelspec": {
   "display_name": "Python 3",
   "language": "python",
   "name": "python3"
  },
  "language_info": {
   "codemirror_mode": {
    "name": "ipython",
    "version": 3
   },
   "file_extension": ".py",
   "mimetype": "text/x-python",
   "name": "python",
   "nbconvert_exporter": "python",
   "pygments_lexer": "ipython3",
   "version": "3.5.2"
  }
 },
 "nbformat": 4,
 "nbformat_minor": 2
}
