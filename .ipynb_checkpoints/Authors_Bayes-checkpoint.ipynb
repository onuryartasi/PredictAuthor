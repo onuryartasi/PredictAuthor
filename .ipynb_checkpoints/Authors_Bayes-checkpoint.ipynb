{
 "cells": [
  {
   "cell_type": "code",
   "execution_count": 1,
   "metadata": {
    "collapsed": true
   },
   "outputs": [],
   "source": [
    "import re,os\n",
    "import numpy as np\n",
    "import random\n",
    "mypath=\"authors\""
   ]
  },
  {
   "cell_type": "code",
   "execution_count": 2,
   "metadata": {
    "collapsed": true
   },
   "outputs": [],
   "source": [
    "def dataSet(dirName):\n",
    "    authors=[]\n",
    "    path=os.getcwd()+'/'+dirName+'/'\n",
    "    mylist=[]\n",
    "    for filename in os.listdir(path):\n",
    "        authors.append(filename)\n",
    "        for file in os.listdir(path+filename):\n",
    "            files=open(path+filename+'/'+file,'r',encoding=\"utf8\")\n",
    "            text=files.read().split()\n",
    "            mylist.append(text) \n",
    "    return mylist,authors"
   ]
  },
  {
   "cell_type": "code",
   "execution_count": 3,
   "metadata": {},
   "outputs": [
    {
     "name": "stdout",
     "output_type": "stream",
     "text": [
      "['Andres platonov', 'Maksim Gorki', 'Gabriel Garcia Marquez', 'James Joyce', 'Yasar Kemal', 'Oguz Atay', 'Ahmet hamdi']\n"
     ]
    }
   ],
   "source": [
    "dataset,authors=dataSet(mypath)\n",
    "print(authors)"
   ]
  },
  {
   "cell_type": "code",
   "execution_count": 4,
   "metadata": {
    "collapsed": true
   },
   "outputs": [],
   "source": [
    "docData=[]\n",
    "docAuthors=[]\n",
    "defaultDocWord=530\n",
    "for i in range(len(authors)):\n",
    "    lenBook=len(dataset[i])\n",
    "    lenDoc=int(lenBook/defaultDocWord)\n",
    "    if(lenBook/defaultDocWord!=0):\n",
    "        lenDoc=lenDoc+1\n",
    "    for k in range(lenDoc):\n",
    "        docData.append(dataset[i][k*defaultDocWord:(k+1)*defaultDocWord])\n",
    "        docAuthors.append(authors[i]) \n"
   ]
  },
  {
   "cell_type": "code",
   "execution_count": 5,
   "metadata": {},
   "outputs": [
    {
     "name": "stdout",
     "output_type": "stream",
     "text": [
      "530\n"
     ]
    }
   ],
   "source": [
    "print(len(docData[0]))"
   ]
  },
  {
   "cell_type": "code",
   "execution_count": 6,
   "metadata": {
    "collapsed": true
   },
   "outputs": [],
   "source": [
    "\n",
    "def divideDataSet(docData,docAuthors):\n",
    "   \n",
    "    suffl = list(zip(docData, docAuthors))\n",
    "    random.shuffle(suffl)\n",
    "    docData, docAuthors = zip(*suffl)\n",
    "\n",
    "    lenTrainSet=int(len(docData)*0.8)\n",
    "    \n",
    "    trainSetData=docData[0:lenTrainSet]\n",
    "    trainSetAuthors=docAuthors[0:lenTrainSet]\n",
    "    \n",
    "    testSetData=docData[lenTrainSet:len(docData)]\n",
    "    testSetAuthors=docAuthors[lenTrainSet:len(docAuthors)]\n",
    "    return trainSetData,trainSetAuthors,testSetData,testSetAuthors\n"
   ]
  },
  {
   "cell_type": "code",
   "execution_count": 7,
   "metadata": {
    "collapsed": true
   },
   "outputs": [],
   "source": [
    "trainSetData,trainSetAuthors,testSetData,testSetAuthors = divideDataSet(docData,docAuthors)"
   ]
  },
  {
   "cell_type": "code",
   "execution_count": 8,
   "metadata": {
    "collapsed": true
   },
   "outputs": [],
   "source": []
  },
  {
   "cell_type": "code",
   "execution_count": 9,
   "metadata": {
    "collapsed": true
   },
   "outputs": [],
   "source": [
    "\n",
    "features_value= feature_extraction(trainSetData[0])"
   ]
  },
  {
   "cell_type": "code",
   "execution_count": 10,
   "metadata": {
    "collapsed": true,
    "scrolled": true
   },
   "outputs": [],
   "source": [
    "#print(features_value)\n"
   ]
  },
  {
   "cell_type": "code",
   "execution_count": 11,
   "metadata": {
    "collapsed": true
   },
   "outputs": [],
   "source": []
  },
  {
   "cell_type": "code",
   "execution_count": 12,
   "metadata": {
    "collapsed": true
   },
   "outputs": [],
   "source": []
  },
  {
   "cell_type": "code",
   "execution_count": 13,
   "metadata": {
    "collapsed": true
   },
   "outputs": [],
   "source": []
  },
  {
   "cell_type": "code",
   "execution_count": 14,
   "metadata": {
    "collapsed": true
   },
   "outputs": [],
   "source": []
  },
  {
   "cell_type": "code",
   "execution_count": null,
   "metadata": {
    "collapsed": true
   },
   "outputs": [],
   "source": []
  },
  {
   "cell_type": "code",
   "execution_count": null,
   "metadata": {
    "collapsed": true
   },
   "outputs": [],
   "source": []
  },
  {
   "cell_type": "code",
   "execution_count": 15,
   "metadata": {
    "collapsed": true
   },
   "outputs": [],
   "source": [
    "def cosin(features_val1, features_val2):\n",
    "    features_cos=0\n",
    "   \n",
    "    norm1=vector_norm(features_val1)\n",
    "    norm2=vector_norm(features_val2)\n",
    "    for i in range(len(features_val1)):\n",
    "        features_cos= features_cos+(features_val1[i]*features_val2[i])\n",
    "    features_cos=features_cos/(norm1*norm2)\n",
    "    return features_cos"
   ]
  },
  {
   "cell_type": "code",
   "execution_count": null,
   "metadata": {
    "collapsed": true
   },
   "outputs": [],
   "source": []
  },
  {
   "cell_type": "code",
   "execution_count": null,
   "metadata": {
    "collapsed": true
   },
   "outputs": [],
   "source": []
  },
  {
   "cell_type": "code",
   "execution_count": 16,
   "metadata": {
    "collapsed": true
   },
   "outputs": [],
   "source": [
    "def cosfunc():\n",
    "    lenAuthAverage=len(authAverage())\n",
    "    auth_average=authAverage()\n",
    "    lenTestSetData= len(testSetData)\n",
    "    cos_list = np.zeros((lenTestSetData,lenAuthAverage, ))\n",
    "    for k in range(lenAuthAverage):\n",
    "        for i in range(lenTestSetData):\n",
    "\n",
    "            test_feature=feature_extraction(testSetData[i])\n",
    "            cos_list[i][k]=cosin(auth_average[k],test_feature)\n",
    "    return cos_list"
   ]
  },
  {
   "cell_type": "code",
   "execution_count": 17,
   "metadata": {
    "collapsed": true
   },
   "outputs": [],
   "source": [
    "def conf_mat(cos_list):\n",
    "    conf_mat=np.zeros((len(authors),len(authors)))\n",
    "    for i in range(len(cos_list)):\n",
    "        max_in=np.argmax(cos_list[i])\n",
    "        print(authors[max_in],\" : \", testSetAuthors[i])\n",
    "        conf_mat[max_in][authors.index(testSetAuthors[i])]=conf_mat[max_in][authors.index(testSetAuthors[i])]+1\n",
    "\n",
    "    return conf_mat"
   ]
  },
  {
   "cell_type": "code",
   "execution_count": 18,
   "metadata": {},
   "outputs": [
    {
     "name": "stdout",
     "output_type": "stream",
     "text": [
      "Yasar Kemal  :  Oguz Atay\n",
      "Oguz Atay  :  Oguz Atay\n",
      "Oguz Atay  :  Oguz Atay\n",
      "Ahmet hamdi  :  Ahmet hamdi\n",
      "Ahmet hamdi  :  Ahmet hamdi\n",
      "Ahmet hamdi  :  Yasar Kemal\n",
      "Yasar Kemal  :  Ahmet hamdi\n",
      "Andres platonov  :  James Joyce\n",
      "Oguz Atay  :  Yasar Kemal\n",
      "Yasar Kemal  :  James Joyce\n",
      "James Joyce  :  James Joyce\n",
      "Yasar Kemal  :  Yasar Kemal\n",
      "Yasar Kemal  :  Yasar Kemal\n",
      "James Joyce  :  James Joyce\n",
      "Ahmet hamdi  :  Ahmet hamdi\n",
      "Gabriel Garcia Marquez  :  Gabriel Garcia Marquez\n",
      "Oguz Atay  :  Oguz Atay\n",
      "Maksim Gorki  :  Maksim Gorki\n",
      "Ahmet hamdi  :  Ahmet hamdi\n",
      "Ahmet hamdi  :  James Joyce\n",
      "Gabriel Garcia Marquez  :  Yasar Kemal\n",
      "Maksim Gorki  :  Maksim Gorki\n",
      "Oguz Atay  :  Oguz Atay\n",
      "Yasar Kemal  :  Yasar Kemal\n",
      "Yasar Kemal  :  James Joyce\n",
      "Gabriel Garcia Marquez  :  Gabriel Garcia Marquez\n",
      "Yasar Kemal  :  Oguz Atay\n",
      "Oguz Atay  :  Yasar Kemal\n",
      "Oguz Atay  :  James Joyce\n",
      "Yasar Kemal  :  James Joyce\n",
      "James Joyce  :  James Joyce\n",
      "Oguz Atay  :  Maksim Gorki\n",
      "Maksim Gorki  :  Oguz Atay\n",
      "Yasar Kemal  :  Yasar Kemal\n",
      "Yasar Kemal  :  Yasar Kemal\n",
      "Ahmet hamdi  :  Oguz Atay\n",
      "Yasar Kemal  :  Ahmet hamdi\n",
      "Yasar Kemal  :  Yasar Kemal\n",
      "Andres platonov  :  Oguz Atay\n",
      "Ahmet hamdi  :  Ahmet hamdi\n",
      "Gabriel Garcia Marquez  :  Gabriel Garcia Marquez\n",
      "Oguz Atay  :  Oguz Atay\n",
      "Yasar Kemal  :  James Joyce\n",
      "Maksim Gorki  :  Maksim Gorki\n",
      "Yasar Kemal  :  Oguz Atay\n",
      "Oguz Atay  :  James Joyce\n",
      "Maksim Gorki  :  Maksim Gorki\n",
      "Maksim Gorki  :  Maksim Gorki\n",
      "Oguz Atay  :  Oguz Atay\n",
      "Maksim Gorki  :  Maksim Gorki\n",
      "Andres platonov  :  James Joyce\n",
      "James Joyce  :  James Joyce\n",
      "Oguz Atay  :  Oguz Atay\n",
      "Gabriel Garcia Marquez  :  Oguz Atay\n",
      "Oguz Atay  :  Maksim Gorki\n",
      "Yasar Kemal  :  James Joyce\n",
      "Oguz Atay  :  James Joyce\n",
      "Gabriel Garcia Marquez  :  James Joyce\n",
      "Yasar Kemal  :  Andres platonov\n",
      "Andres platonov  :  James Joyce\n",
      "Andres platonov  :  Oguz Atay\n",
      "James Joyce  :  Ahmet hamdi\n",
      "Gabriel Garcia Marquez  :  Oguz Atay\n",
      "Yasar Kemal  :  Andres platonov\n",
      "Gabriel Garcia Marquez  :  Gabriel Garcia Marquez\n",
      "James Joyce  :  Oguz Atay\n",
      "Oguz Atay  :  James Joyce\n",
      "Maksim Gorki  :  Oguz Atay\n",
      "Ahmet hamdi  :  Ahmet hamdi\n",
      "Ahmet hamdi  :  Andres platonov\n",
      "Ahmet hamdi  :  Andres platonov\n",
      "Oguz Atay  :  Andres platonov\n",
      "Maksim Gorki  :  Maksim Gorki\n",
      "Maksim Gorki  :  James Joyce\n",
      "Maksim Gorki  :  Maksim Gorki\n",
      "James Joyce  :  James Joyce\n",
      "Ahmet hamdi  :  Ahmet hamdi\n",
      "Yasar Kemal  :  Yasar Kemal\n",
      "James Joyce  :  Ahmet hamdi\n",
      "Andres platonov  :  Andres platonov\n",
      "Oguz Atay  :  James Joyce\n",
      "Oguz Atay  :  Andres platonov\n",
      "Oguz Atay  :  James Joyce\n",
      "Oguz Atay  :  James Joyce\n",
      "Oguz Atay  :  James Joyce\n",
      "James Joyce  :  Andres platonov\n",
      "Oguz Atay  :  Oguz Atay\n",
      "Andres platonov  :  Andres platonov\n",
      "Maksim Gorki  :  Maksim Gorki\n",
      "Maksim Gorki  :  Maksim Gorki\n",
      "Yasar Kemal  :  Yasar Kemal\n",
      "Maksim Gorki  :  Oguz Atay\n",
      "Yasar Kemal  :  Ahmet hamdi\n",
      "Yasar Kemal  :  James Joyce\n",
      "Oguz Atay  :  Andres platonov\n",
      "Gabriel Garcia Marquez  :  James Joyce\n",
      "Yasar Kemal  :  Yasar Kemal\n",
      "Ahmet hamdi  :  Ahmet hamdi\n",
      "Maksim Gorki  :  Oguz Atay\n",
      "Andres platonov  :  Andres platonov\n",
      "Maksim Gorki  :  Oguz Atay\n",
      "Maksim Gorki  :  Oguz Atay\n",
      "Maksim Gorki  :  James Joyce\n",
      "Oguz Atay  :  Oguz Atay\n",
      "Oguz Atay  :  Oguz Atay\n",
      "Yasar Kemal  :  Yasar Kemal\n",
      "Gabriel Garcia Marquez  :  Gabriel Garcia Marquez\n",
      "Ahmet hamdi  :  Ahmet hamdi\n",
      "Maksim Gorki  :  Oguz Atay\n",
      "Ahmet hamdi  :  Ahmet hamdi\n",
      "Yasar Kemal  :  Yasar Kemal\n",
      "James Joyce  :  James Joyce\n",
      "Yasar Kemal  :  James Joyce\n",
      "Gabriel Garcia Marquez  :  Gabriel Garcia Marquez\n",
      "Oguz Atay  :  Oguz Atay\n",
      "Oguz Atay  :  Oguz Atay\n",
      "Maksim Gorki  :  Maksim Gorki\n",
      "Gabriel Garcia Marquez  :  Gabriel Garcia Marquez\n",
      "Yasar Kemal  :  Yasar Kemal\n",
      "Andres platonov  :  Oguz Atay\n",
      "Oguz Atay  :  James Joyce\n",
      "James Joyce  :  James Joyce\n",
      "Ahmet hamdi  :  James Joyce\n",
      "Yasar Kemal  :  Yasar Kemal\n",
      "Gabriel Garcia Marquez  :  Gabriel Garcia Marquez\n",
      "James Joyce  :  James Joyce\n",
      "Gabriel Garcia Marquez  :  Gabriel Garcia Marquez\n",
      "Andres platonov  :  James Joyce\n",
      "Gabriel Garcia Marquez  :  James Joyce\n",
      "Andres platonov  :  Andres platonov\n",
      "Gabriel Garcia Marquez  :  Gabriel Garcia Marquez\n",
      "Yasar Kemal  :  James Joyce\n",
      "Yasar Kemal  :  Yasar Kemal\n",
      "Maksim Gorki  :  Maksim Gorki\n",
      "Yasar Kemal  :  Ahmet hamdi\n",
      "Gabriel Garcia Marquez  :  Gabriel Garcia Marquez\n",
      "Ahmet hamdi  :  Gabriel Garcia Marquez\n",
      "James Joyce  :  Ahmet hamdi\n",
      "Gabriel Garcia Marquez  :  James Joyce\n",
      "Gabriel Garcia Marquez  :  Yasar Kemal\n",
      "James Joyce  :  Andres platonov\n",
      "Maksim Gorki  :  Maksim Gorki\n",
      "Ahmet hamdi  :  Ahmet hamdi\n",
      "Gabriel Garcia Marquez  :  James Joyce\n",
      "Oguz Atay  :  Andres platonov\n",
      "Maksim Gorki  :  Oguz Atay\n",
      "Yasar Kemal  :  Yasar Kemal\n",
      "James Joyce  :  Ahmet hamdi\n",
      "Andres platonov  :  Andres platonov\n",
      "Andres platonov  :  Andres platonov\n",
      "Ahmet hamdi  :  Yasar Kemal\n",
      "Gabriel Garcia Marquez  :  Gabriel Garcia Marquez\n",
      "Andres platonov  :  Andres platonov\n",
      "Gabriel Garcia Marquez  :  James Joyce\n",
      "Oguz Atay  :  Andres platonov\n",
      "Andres platonov  :  James Joyce\n",
      "James Joyce  :  Ahmet hamdi\n",
      "Yasar Kemal  :  Oguz Atay\n",
      "Maksim Gorki  :  Yasar Kemal\n",
      "Yasar Kemal  :  Ahmet hamdi\n",
      "Maksim Gorki  :  Oguz Atay\n",
      "Andres platonov  :  Andres platonov\n",
      "Ahmet hamdi  :  Ahmet hamdi\n",
      "Ahmet hamdi  :  Yasar Kemal\n",
      "Yasar Kemal  :  Yasar Kemal\n",
      "Ahmet hamdi  :  James Joyce\n",
      "Oguz Atay  :  Oguz Atay\n",
      "Ahmet hamdi  :  Oguz Atay\n",
      "Gabriel Garcia Marquez  :  Gabriel Garcia Marquez\n",
      "Oguz Atay  :  Yasar Kemal\n",
      "Oguz Atay  :  Maksim Gorki\n",
      "Andres platonov  :  James Joyce\n",
      "Maksim Gorki  :  Oguz Atay\n",
      "James Joyce  :  Oguz Atay\n",
      "Ahmet hamdi  :  Ahmet hamdi\n",
      "Gabriel Garcia Marquez  :  James Joyce\n",
      "Oguz Atay  :  Andres platonov\n",
      "Maksim Gorki  :  Maksim Gorki\n",
      "Andres platonov  :  James Joyce\n",
      "Andres platonov  :  Oguz Atay\n",
      "Maksim Gorki  :  James Joyce\n",
      "Ahmet hamdi  :  Oguz Atay\n",
      "Ahmet hamdi  :  Yasar Kemal\n",
      "Gabriel Garcia Marquez  :  James Joyce\n",
      "Gabriel Garcia Marquez  :  Gabriel Garcia Marquez\n",
      "Yasar Kemal  :  Yasar Kemal\n",
      "Maksim Gorki  :  Maksim Gorki\n",
      "Andres platonov  :  Andres platonov\n",
      "Andres platonov  :  James Joyce\n",
      "Ahmet hamdi  :  Ahmet hamdi\n",
      "Yasar Kemal  :  James Joyce\n",
      "Andres platonov  :  Andres platonov\n",
      "Yasar Kemal  :  James Joyce\n",
      "Gabriel Garcia Marquez  :  Gabriel Garcia Marquez\n",
      "Ahmet hamdi  :  Yasar Kemal\n",
      "Yasar Kemal  :  Ahmet hamdi\n",
      "Yasar Kemal  :  Maksim Gorki\n",
      "Oguz Atay  :  Andres platonov\n",
      "Oguz Atay  :  James Joyce\n",
      "Gabriel Garcia Marquez  :  Gabriel Garcia Marquez\n",
      "Maksim Gorki  :  Oguz Atay\n",
      "Andres platonov  :  James Joyce\n",
      "Andres platonov  :  James Joyce\n",
      "Oguz Atay  :  Oguz Atay\n",
      "Andres platonov  :  Andres platonov\n",
      "Ahmet hamdi  :  Ahmet hamdi\n",
      "Oguz Atay  :  Oguz Atay\n",
      "Andres platonov  :  Andres platonov\n",
      "Gabriel Garcia Marquez  :  Gabriel Garcia Marquez\n",
      "Andres platonov  :  Andres platonov\n",
      "Oguz Atay  :  Andres platonov\n",
      "Yasar Kemal  :  Ahmet hamdi\n",
      "Oguz Atay  :  Maksim Gorki\n",
      "Oguz Atay  :  Oguz Atay\n",
      "James Joyce  :  Oguz Atay\n",
      "Gabriel Garcia Marquez  :  Gabriel Garcia Marquez\n",
      "Maksim Gorki  :  Oguz Atay\n",
      "Andres platonov  :  James Joyce\n",
      "Ahmet hamdi  :  James Joyce\n",
      "Maksim Gorki  :  Maksim Gorki\n",
      "Yasar Kemal  :  Yasar Kemal\n",
      "Maksim Gorki  :  James Joyce\n",
      "Oguz Atay  :  Andres platonov\n",
      "Andres platonov  :  Oguz Atay\n",
      "Maksim Gorki  :  Maksim Gorki\n",
      "Andres platonov  :  James Joyce\n",
      "Andres platonov  :  Andres platonov\n",
      "Maksim Gorki  :  James Joyce\n",
      "Yasar Kemal  :  Yasar Kemal\n",
      "Yasar Kemal  :  Yasar Kemal\n",
      "Yasar Kemal  :  Andres platonov\n",
      "Yasar Kemal  :  James Joyce\n",
      "Oguz Atay  :  James Joyce\n",
      "Ahmet hamdi  :  Ahmet hamdi\n",
      "Andres platonov  :  James Joyce\n",
      "Maksim Gorki  :  Oguz Atay\n",
      "Maksim Gorki  :  Oguz Atay\n",
      "Maksim Gorki  :  James Joyce\n",
      "Ahmet hamdi  :  Yasar Kemal\n",
      "Gabriel Garcia Marquez  :  Oguz Atay\n",
      "Gabriel Garcia Marquez  :  Gabriel Garcia Marquez\n",
      "Andres platonov  :  Oguz Atay\n",
      "Gabriel Garcia Marquez  :  Gabriel Garcia Marquez\n",
      "Yasar Kemal  :  Oguz Atay\n",
      "James Joyce  :  Ahmet hamdi\n",
      "James Joyce  :  James Joyce\n",
      "Yasar Kemal  :  Yasar Kemal\n",
      "Maksim Gorki  :  Maksim Gorki\n",
      "Andres platonov  :  Oguz Atay\n",
      "Gabriel Garcia Marquez  :  Yasar Kemal\n",
      "Maksim Gorki  :  Yasar Kemal\n",
      "Oguz Atay  :  Oguz Atay\n",
      "Gabriel Garcia Marquez  :  Gabriel Garcia Marquez\n",
      "Gabriel Garcia Marquez  :  Gabriel Garcia Marquez\n",
      "James Joyce  :  James Joyce\n",
      "Yasar Kemal  :  James Joyce\n",
      "Gabriel Garcia Marquez  :  Gabriel Garcia Marquez\n",
      "Gabriel Garcia Marquez  :  Gabriel Garcia Marquez\n",
      "Andres platonov  :  Andres platonov\n",
      "Ahmet hamdi  :  Ahmet hamdi\n",
      "Ahmet hamdi  :  Andres platonov\n",
      "Maksim Gorki  :  Maksim Gorki\n",
      "Maksim Gorki  :  Maksim Gorki\n",
      "Ahmet hamdi  :  Yasar Kemal\n",
      "Ahmet hamdi  :  Yasar Kemal\n",
      "Maksim Gorki  :  Maksim Gorki\n",
      "Gabriel Garcia Marquez  :  Ahmet hamdi\n",
      "Yasar Kemal  :  James Joyce\n",
      "Oguz Atay  :  James Joyce\n",
      "Gabriel Garcia Marquez  :  Gabriel Garcia Marquez\n",
      "Gabriel Garcia Marquez  :  Gabriel Garcia Marquez\n",
      "Yasar Kemal  :  Yasar Kemal\n",
      "James Joyce  :  Andres platonov\n",
      "Oguz Atay  :  Oguz Atay\n",
      "Gabriel Garcia Marquez  :  Ahmet hamdi\n",
      "Oguz Atay  :  James Joyce\n",
      "Oguz Atay  :  Andres platonov\n",
      "James Joyce  :  Andres platonov\n",
      "James Joyce  :  James Joyce\n",
      "Oguz Atay  :  James Joyce\n",
      "Oguz Atay  :  Yasar Kemal\n",
      "Maksim Gorki  :  Oguz Atay\n",
      "Andres platonov  :  Oguz Atay\n",
      "Andres platonov  :  Andres platonov\n",
      "Oguz Atay  :  James Joyce\n",
      "Gabriel Garcia Marquez  :  Gabriel Garcia Marquez\n",
      "Yasar Kemal  :  Andres platonov\n",
      "Oguz Atay  :  James Joyce\n",
      "Gabriel Garcia Marquez  :  Gabriel Garcia Marquez\n",
      "Ahmet hamdi  :  Yasar Kemal\n",
      "Andres platonov  :  James Joyce\n",
      "Andres platonov  :  James Joyce\n",
      "Gabriel Garcia Marquez  :  Gabriel Garcia Marquez\n",
      "Yasar Kemal  :  Maksim Gorki\n",
      "James Joyce  :  Andres platonov\n",
      "Maksim Gorki  :  Maksim Gorki\n",
      "Maksim Gorki  :  Maksim Gorki\n",
      "Andres platonov  :  Oguz Atay\n",
      "Gabriel Garcia Marquez  :  Gabriel Garcia Marquez\n",
      "Yasar Kemal  :  Yasar Kemal\n",
      "Oguz Atay  :  Andres platonov\n",
      "Oguz Atay  :  Oguz Atay\n",
      "Oguz Atay  :  James Joyce\n",
      "Andres platonov  :  Andres platonov\n",
      "Gabriel Garcia Marquez  :  James Joyce\n",
      "Maksim Gorki  :  Oguz Atay\n",
      "Oguz Atay  :  Oguz Atay\n",
      "Yasar Kemal  :  Andres platonov\n",
      "Andres platonov  :  Oguz Atay\n",
      "Gabriel Garcia Marquez  :  Gabriel Garcia Marquez\n",
      "Ahmet hamdi  :  Ahmet hamdi\n",
      "Yasar Kemal  :  Ahmet hamdi\n",
      "Yasar Kemal  :  James Joyce\n",
      "Gabriel Garcia Marquez  :  Gabriel Garcia Marquez\n",
      "Gabriel Garcia Marquez  :  Gabriel Garcia Marquez\n",
      "Oguz Atay  :  Yasar Kemal\n",
      "Gabriel Garcia Marquez  :  Oguz Atay\n",
      "Yasar Kemal  :  Yasar Kemal\n",
      "Yasar Kemal  :  Yasar Kemal\n",
      "Ahmet hamdi  :  Andres platonov\n",
      "Gabriel Garcia Marquez  :  Gabriel Garcia Marquez\n",
      "Yasar Kemal  :  James Joyce\n",
      "Ahmet hamdi  :  Gabriel Garcia Marquez\n",
      "Andres platonov  :  James Joyce\n",
      "James Joyce  :  James Joyce\n",
      "Andres platonov  :  Andres platonov\n",
      "Oguz Atay  :  Maksim Gorki\n",
      "Andres platonov  :  Oguz Atay\n",
      "James Joyce  :  Andres platonov\n",
      "Oguz Atay  :  Yasar Kemal\n",
      "Oguz Atay  :  James Joyce\n",
      "Oguz Atay  :  Ahmet hamdi\n"
     ]
    },
    {
     "name": "stdout",
     "output_type": "stream",
     "text": [
      "Yasar Kemal  :  Yasar Kemal\n",
      "Yasar Kemal  :  Ahmet hamdi\n",
      "Gabriel Garcia Marquez  :  Gabriel Garcia Marquez\n",
      "Yasar Kemal  :  Yasar Kemal\n",
      "James Joyce  :  Ahmet hamdi\n",
      "Yasar Kemal  :  James Joyce\n",
      "Andres platonov  :  Andres platonov\n",
      "Gabriel Garcia Marquez  :  Gabriel Garcia Marquez\n",
      "Gabriel Garcia Marquez  :  Ahmet hamdi\n",
      "Gabriel Garcia Marquez  :  James Joyce\n",
      "Maksim Gorki  :  Oguz Atay\n",
      "James Joyce  :  Yasar Kemal\n",
      "Yasar Kemal  :  James Joyce\n",
      "Yasar Kemal  :  Yasar Kemal\n",
      "Yasar Kemal  :  James Joyce\n",
      "Ahmet hamdi  :  Andres platonov\n",
      "Gabriel Garcia Marquez  :  Gabriel Garcia Marquez\n",
      "Maksim Gorki  :  Oguz Atay\n",
      "Oguz Atay  :  Oguz Atay\n",
      "James Joyce  :  James Joyce\n",
      "Oguz Atay  :  Andres platonov\n",
      "Andres platonov  :  Andres platonov\n",
      "Andres platonov  :  Ahmet hamdi\n",
      "James Joyce  :  James Joyce\n",
      "Gabriel Garcia Marquez  :  Gabriel Garcia Marquez\n"
     ]
    },
    {
     "data": {
      "text/plain": [
       "array([[ 20.,   0.,   0.,  16.,   0.,  11.,   1.],\n",
       "       [  0.,  23.,   0.,   6.,   2.,  18.,   0.],\n",
       "       [  0.,   0.,  38.,  10.,   3.,   4.,   3.],\n",
       "       [  6.,   0.,   0.,  14.,   1.,   3.,   7.],\n",
       "       [  5.,   2.,   0.,  18.,  28.,   5.,   9.],\n",
       "       [ 12.,   5.,   0.,  18.,   6.,  21.,   1.],\n",
       "       [  5.,   0.,   2.,   4.,   9.,   3.,  18.]])"
      ]
     },
     "execution_count": 18,
     "metadata": {},
     "output_type": "execute_result"
    }
   ],
   "source": [
    "conf_mat(cosfunc())"
   ]
  },
  {
   "cell_type": "code",
   "execution_count": 19,
   "metadata": {
    "collapsed": true
   },
   "outputs": [],
   "source": [
    "# import re\n",
    "# print(re.sub(r\"[^\\w\\d'\\s]+\",'',sentence)) # noktalama işaretlerini çıkarır.;\n"
   ]
  },
  {
   "cell_type": "code",
   "execution_count": null,
   "metadata": {
    "collapsed": true
   },
   "outputs": [],
   "source": [
    "def precision(conf_mat):\n",
    "    "
   ]
  },
  {
   "cell_type": "code",
   "execution_count": 20,
   "metadata": {
    "collapsed": true
   },
   "outputs": [],
   "source": [
    "# import time\n",
    "# t0 = time.time()\n",
    "\n",
    "# ortalama=len(\"\".join(trainSetData[0]))/len(trainSetData[0])\n",
    "# t1 = time.time()\n",
    "# print(\"t: \", t1-t0)"
   ]
  },
  {
   "cell_type": "code",
   "execution_count": null,
   "metadata": {
    "collapsed": true
   },
   "outputs": [],
   "source": [
    "\n"
   ]
  },
  {
   "cell_type": "code",
   "execution_count": null,
   "metadata": {
    "collapsed": true
   },
   "outputs": [],
   "source": []
  }
 ],
 "metadata": {
  "kernelspec": {
   "display_name": "Python 3",
   "language": "python",
   "name": "python3"
  },
  "language_info": {
   "codemirror_mode": {
    "name": "ipython",
    "version": 3
   },
   "file_extension": ".py",
   "mimetype": "text/x-python",
   "name": "python",
   "nbconvert_exporter": "python",
   "pygments_lexer": "ipython3",
   "version": "3.5.2"
  }
 },
 "nbformat": 4,
 "nbformat_minor": 2
}
