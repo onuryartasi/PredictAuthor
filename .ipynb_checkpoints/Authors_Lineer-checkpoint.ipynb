{
 "cells": [
  {
   "cell_type": "code",
   "execution_count": 1,
   "metadata": {
    "collapsed": true
   },
   "outputs": [],
   "source": [
    "import re,os\n",
    "import numpy as np\n",
    "import random\n",
    "mypath=\"authors\""
   ]
  },
  {
   "cell_type": "code",
   "execution_count": 2,
   "metadata": {
    "collapsed": true
   },
   "outputs": [],
   "source": [
    "def dataSet(dirName):\n",
    "    authors=[]\n",
    "    path=os.getcwd()+'/'+dirName+'/'\n",
    "    mylist=[]\n",
    "    for filename in os.listdir(path):\n",
    "        authors.append(filename)\n",
    "        for file in os.listdir(path+filename):\n",
    "            files=open(path+filename+'/'+file,'r',encoding=\"utf8\")\n",
    "            text=files.read().split()\n",
    "            mylist.append(text) \n",
    "    return mylist,authors"
   ]
  },
  {
   "cell_type": "code",
   "execution_count": 3,
   "metadata": {},
   "outputs": [
    {
     "name": "stdout",
     "output_type": "stream",
     "text": [
      "['Andres platonov', 'Maksim Gorki', 'Gabriel Garcia Marquez', 'James Joyce', 'Yasar Kemal', 'Oguz Atay', 'Ahmet hamdi']\n"
     ]
    }
   ],
   "source": [
    "dataset,authors=dataSet(mypath)\n",
    "print(authors)"
   ]
  },
  {
   "cell_type": "code",
   "execution_count": 4,
   "metadata": {
    "collapsed": true
   },
   "outputs": [],
   "source": [
    "docData=[]\n",
    "docAuthors=[]\n",
    "defaultDocWord=530\n",
    "for i in range(len(authors)):\n",
    "    lenBook=len(dataset[i])\n",
    "    lenDoc=int(lenBook/defaultDocWord)\n",
    "    if(lenBook/defaultDocWord!=0):\n",
    "        lenDoc=lenDoc+1\n",
    "    for k in range(lenDoc):\n",
    "        docData.append(dataset[i][k*defaultDocWord:(k+1)*defaultDocWord])\n",
    "        docAuthors.append(authors[i]) \n"
   ]
  },
  {
   "cell_type": "code",
   "execution_count": 5,
   "metadata": {},
   "outputs": [
    {
     "name": "stdout",
     "output_type": "stream",
     "text": [
      "530\n"
     ]
    }
   ],
   "source": [
    "print(len(docData[0]))"
   ]
  },
  {
   "cell_type": "code",
   "execution_count": 6,
   "metadata": {
    "collapsed": true
   },
   "outputs": [],
   "source": [
    "\n",
    "def divideDataSet(docData,docAuthors):\n",
    "   \n",
    "    suffl = list(zip(docData, docAuthors))\n",
    "    random.shuffle(suffl)\n",
    "    docData, docAuthors = zip(*suffl)\n",
    "\n",
    "    lenTrainSet=int(len(docData)*0.8)\n",
    "    \n",
    "    trainSetData=docData[0:lenTrainSet]\n",
    "    trainSetAuthors=docAuthors[0:lenTrainSet]\n",
    "    \n",
    "    testSetData=docData[lenTrainSet:len(docData)]\n",
    "    testSetAuthors=docAuthors[lenTrainSet:len(docAuthors)]\n",
    "    return trainSetData,trainSetAuthors,testSetData,testSetAuthors\n"
   ]
  },
  {
   "cell_type": "code",
   "execution_count": 7,
   "metadata": {
    "collapsed": true
   },
   "outputs": [],
   "source": [
    "trainSetData,trainSetAuthors,testSetData,testSetAuthors = divideDataSet(docData,docAuthors)"
   ]
  },
  {
   "cell_type": "code",
   "execution_count": 8,
   "metadata": {
    "collapsed": true
   },
   "outputs": [],
   "source": [
    "def feature_extraction(docData):\n",
    "   \n",
    "        lenAllWord=len(\"\".join(docData))\n",
    "        lenDoc=len(docData)\n",
    "        wordAverage=lenAllWord/lenDoc\n",
    "        sentence=\" \".join(docData)\n",
    "        x=re.sub(r\"[^\\w\\d'\\s]+\",'',sentence)\n",
    "        \n",
    "        \n",
    "        uzunluk=len(''.join(x.split(\" \")))\n",
    "     \n",
    "        countPunc=lenAllWord-uzunluk\n",
    "        puncAverage=countPunc/len(docData)\n",
    "        \n",
    "        distTrainSetData=len(list(set(docData)))\n",
    "        freqAverage=len(docData)/distTrainSetData\n",
    "        \n",
    "        features_value=[]\n",
    "        features_value.append(wordAverage)\n",
    "        features_value.append(puncAverage)\n",
    "        features_value.append(freqAverage)\n",
    "\n",
    "        return features_value\n",
    "   "
   ]
  },
  {
   "cell_type": "code",
   "execution_count": 9,
   "metadata": {
    "collapsed": true
   },
   "outputs": [],
   "source": [
    "\n",
    "features_value= feature_extraction(trainSetData[0])"
   ]
  },
  {
   "cell_type": "code",
   "execution_count": 10,
   "metadata": {
    "collapsed": true,
    "scrolled": true
   },
   "outputs": [],
   "source": [
    "#print(features_value)\n"
   ]
  },
  {
   "cell_type": "code",
   "execution_count": 11,
   "metadata": {
    "collapsed": true
   },
   "outputs": [],
   "source": [
    "from math import sqrt\n",
    "\n",
    "def vector_norm(features_value):\n",
    "    norm = sqrt((features_value[0]**2)+(features_value[1]**2)+(features_value[2]**2))\n",
    "    return norm"
   ]
  },
  {
   "cell_type": "code",
   "execution_count": 12,
   "metadata": {
    "collapsed": true
   },
   "outputs": [],
   "source": [
    "#print(vector_norm(features_value))"
   ]
  },
  {
   "cell_type": "code",
   "execution_count": 13,
   "metadata": {
    "collapsed": true
   },
   "outputs": [],
   "source": [
    "\n",
    "def authAverage():\n",
    "    featureCount=len(feature_extraction(trainSetData[0]))\n",
    "    \n",
    "    auth_average=[]\n",
    "\n",
    "    for auth in authors:\n",
    "        index=[]\n",
    "        features_average=np.zeros(featureCount)\n",
    "        index = [index for index, value in enumerate(trainSetAuthors) if value == auth]\n",
    "        for i in index:\n",
    "            features_value=feature_extraction(trainSetData[i])\n",
    "            for  k in range(featureCount):\n",
    "                features_average[k]=features_average[k]+features_value[k]\n",
    "        \n",
    "        auth_average.append((features_average/len(index)).tolist())\n",
    " \n",
    "   \n",
    "    return auth_average"
   ]
  },
  {
   "cell_type": "code",
   "execution_count": 14,
   "metadata": {
    "collapsed": true
   },
   "outputs": [],
   "source": [
    "#authAverage()"
   ]
  },
  {
   "cell_type": "code",
   "execution_count": null,
   "metadata": {
    "collapsed": true
   },
   "outputs": [],
   "source": []
  },
  {
   "cell_type": "code",
   "execution_count": null,
   "metadata": {
    "collapsed": true
   },
   "outputs": [],
   "source": []
  },
  {
   "cell_type": "code",
   "execution_count": 15,
   "metadata": {
    "collapsed": true
   },
   "outputs": [],
   "source": [
    "def cosin(features_val1, features_val2):\n",
    "    features_cos=0\n",
    "   \n",
    "    norm1=vector_norm(features_val1)\n",
    "    norm2=vector_norm(features_val2)\n",
    "    for i in range(len(features_val1)):\n",
    "        features_cos= features_cos+(features_val1[i]*features_val2[i])\n",
    "    features_cos=features_cos/(norm1*norm2)\n",
    "    return features_cos"
   ]
  },
  {
   "cell_type": "code",
   "execution_count": null,
   "metadata": {
    "collapsed": true
   },
   "outputs": [],
   "source": []
  },
  {
   "cell_type": "code",
   "execution_count": null,
   "metadata": {
    "collapsed": true
   },
   "outputs": [],
   "source": []
  },
  {
   "cell_type": "code",
   "execution_count": 16,
   "metadata": {
    "collapsed": true
   },
   "outputs": [],
   "source": [
    "def cosfunc():\n",
    "    lenAuthAverage=len(authAverage())\n",
    "    auth_average=authAverage()\n",
    "    lenTestSetData= len(testSetData)\n",
    "    cos_list = np.zeros((lenTestSetData,lenAuthAverage, ))\n",
    "    for k in range(lenAuthAverage):\n",
    "        for i in range(lenTestSetData):\n",
    "\n",
    "            test_feature=feature_extraction(testSetData[i])\n",
    "            cos_list[i][k]=cosin(auth_average[k],test_feature)\n",
    "    return cos_list"
   ]
  },
  {
   "cell_type": "code",
   "execution_count": 17,
   "metadata": {
    "collapsed": true
   },
   "outputs": [],
   "source": [
    "def conf_matrix(cos_list):\n",
    "    conf_mat=np.zeros((len(authors),len(authors)))\n",
    "    for i in range(len(cos_list)):\n",
    "        max_in=np.argmax(cos_list[i])\n",
    "        #print(authors[max_in],\" : \", testSetAuthors[i])\n",
    "        conf_mat[max_in][authors.index(testSetAuthors[i])]=conf_mat[max_in][authors.index(testSetAuthors[i])]+1\n",
    "\n",
    "    return conf_mat"
   ]
  },
  {
   "cell_type": "code",
   "execution_count": 18,
   "metadata": {
    "scrolled": true
   },
   "outputs": [
    {
     "name": "stdout",
     "output_type": "stream",
     "text": [
      "Accuracy: 0.439775910364\n"
     ]
    }
   ],
   "source": [
    "\n",
    "matrix=conf_matrix(cosfunc())\n",
    "all_pred=sum(sum(matrix))\n",
    "t_pred=sum(np.diagonal(matrix))\n",
    "print(\"Accuracy:\",t_pred/all_pred)\n",
    "\n"
   ]
  },
  {
   "cell_type": "code",
   "execution_count": 19,
   "metadata": {
    "collapsed": true
   },
   "outputs": [],
   "source": [
    "# import re\n",
    "# print(re.sub(r\"[^\\w\\d'\\s]+\",'',sentence)) # noktalama işaretlerini çıkarır.;\n"
   ]
  },
  {
   "cell_type": "code",
   "execution_count": 20,
   "metadata": {},
   "outputs": [
    {
     "name": "stdout",
     "output_type": "stream",
     "text": [
      "\n"
     ]
    }
   ],
   "source": [
    "print() "
   ]
  },
  {
   "cell_type": "code",
   "execution_count": 21,
   "metadata": {
    "collapsed": true
   },
   "outputs": [],
   "source": [
    "# import time\n",
    "# t0 = time.time()\n",
    "\n",
    "# ortalama=len(\"\".join(trainSetData[0]))/len(trainSetData[0])\n",
    "# t1 = time.time()\n",
    "# print(\"t: \", t1-t0)"
   ]
  },
  {
   "cell_type": "code",
   "execution_count": null,
   "metadata": {
    "collapsed": true
   },
   "outputs": [],
   "source": [
    "\n"
   ]
  },
  {
   "cell_type": "code",
   "execution_count": null,
   "metadata": {
    "collapsed": true
   },
   "outputs": [],
   "source": []
  }
 ],
 "metadata": {
  "kernelspec": {
   "display_name": "Python 3",
   "language": "python",
   "name": "python3"
  },
  "language_info": {
   "codemirror_mode": {
    "name": "ipython",
    "version": 3
   },
   "file_extension": ".py",
   "mimetype": "text/x-python",
   "name": "python",
   "nbconvert_exporter": "python",
   "pygments_lexer": "ipython3",
   "version": "3.5.2"
  }
 },
 "nbformat": 4,
 "nbformat_minor": 2
}
